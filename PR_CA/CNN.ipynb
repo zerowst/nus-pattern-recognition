{
 "cells": [
  {
   "cell_type": "code",
   "execution_count": null,
   "metadata": {
    "id": "rNk1D-jha0Vj"
   },
   "outputs": [],
   "source": [
    "import sys\n",
    "import os\n",
    "import random\n",
    "import numpy as np\n",
    "import matplotlib.pyplot as plt\n",
    "from mpl_toolkits.mplot3d import Axes3D\n",
    "from sklearn import svm\n",
    "from sklearn.decomposition import PCA\n",
    "from sklearn.neighbors import KNeighborsClassifier\n",
    "from sklearn.discriminant_analysis import LinearDiscriminantAnalysis as LDA\n",
    "import scipy\n",
    "\n",
    "from PIL import Image"
   ]
  },
  {
   "cell_type": "code",
   "execution_count": null,
   "metadata": {
    "colab": {
     "base_uri": "https://localhost:8080/"
    },
    "executionInfo": {
     "elapsed": 18361,
     "status": "ok",
     "timestamp": 1667809335233,
     "user": {
      "displayName": "st w",
      "userId": "13569617814238227088"
     },
     "user_tz": -480
    },
    "id": "SWV-i-2SbmUP",
    "outputId": "6bf8b89f-85ee-4cbc-af2b-f0eb4543475b"
   },
   "outputs": [
    {
     "name": "stdout",
     "output_type": "stream",
     "text": [
      "Mounted at /content/drive\n"
     ]
    }
   ],
   "source": [
    "from google.colab import drive\n",
    "drive.mount('/content/drive')"
   ]
  },
  {
   "cell_type": "code",
   "execution_count": null,
   "metadata": {
    "id": "KAPSjRfsbVrb"
   },
   "outputs": [],
   "source": [
    "def read_image(dirpath):\n",
    "    image_data = []\n",
    "    \n",
    "    for file in os.listdir(dirpath):\n",
    "        if os.path.isfile(os.path.join(dirpath, file)):\n",
    "            c = os.path.basename(file)\n",
    "            filename = dirpath + '/' + c\n",
    "            image = Image.open(filename).resize((32, 32)).convert('L')\n",
    "            image_arr = np.array(image).reshape(1, 1024)\n",
    "            image_data.append(image_arr)\n",
    "    \n",
    "    return image_data\n",
    "            "
   ]
  },
  {
   "cell_type": "code",
   "execution_count": null,
   "metadata": {
    "id": "Kd3w1ejrbV1D"
   },
   "outputs": [],
   "source": [
    "def process_image(folderpath):\n",
    "    data_all = []\n",
    "    for i in range(1, 26):\n",
    "        ### '/home/x/PR_CA/PIE/'\n",
    "        dirpath = folderpath + str(i)  \n",
    "        image_list = read_image(dirpath)\n",
    "        data_image = np.concatenate(image_list, axis=0)\n",
    "        data_all.append(data_image)\n",
    "    return data_all\n",
    "    "
   ]
  },
  {
   "cell_type": "code",
   "execution_count": null,
   "metadata": {
    "id": "V3IFTz0DbV3H"
   },
   "outputs": [],
   "source": [
    "def train_test_split(data, label):\n",
    "    proportion = 0.7\n",
    "    lens = data.shape[0]\n",
    "    print(lens)\n",
    "    idx = random.sample(range(0, lens), int(proportion*lens))\n",
    "    idx = sorted(idx)\n",
    "    \n",
    "    train_x, train_y, test_x, test_y = [], [], [], []\n",
    "    for i in range(lens):\n",
    "        if i in idx:\n",
    "            train_x.append(data[i].reshape(1, -1))\n",
    "            train_y.append(label[i].reshape(1, -1))\n",
    "        else:\n",
    "            test_x.append(data[i].reshape(1, -1))\n",
    "            test_y.append(label[i].reshape(1, -1))\n",
    "    \n",
    "#     train_x = [data[i].reshape(1, -1) for i in idx]\n",
    "#     train_y = [label[i].reshape(1, -1) for i in idx]\n",
    "#     test_x = [data[i].reshape(1, -1) for i in range(lens) if i not in idx]\n",
    "#     test_y = [label[i].reshape(1, -1) for i in range(lens) if i not in idx]\n",
    "    \n",
    "    trainx = np.concatenate(train_x)\n",
    "    trainy = np.concatenate(train_y)\n",
    "    testx = np.concatenate(test_x)\n",
    "    testy = np.concatenate(test_y)\n",
    "    return trainx, trainy, testx, testy"
   ]
  },
  {
   "cell_type": "code",
   "execution_count": null,
   "metadata": {
    "id": "kibcLeQUbV7Q"
   },
   "outputs": [],
   "source": [
    "def PCA_(dataset, n_component):\n",
    "    N, Fea = dataset.shape\n",
    "    x_mean = np.mean(dataset, 0)\n",
    "    x_norm = dataset - x_mean\n",
    "    \n",
    "    co_var = np.zeros([Fea, Fea])\n",
    "    co_var = np.dot(x_norm.T, x_norm)\n",
    "    \n",
    "    eig_val, eig_vec = np.linalg.eig(co_var)\n",
    "    eig_pair = [[np.abs(eig_val[i]), eig_vec[:, i]] for i in range(Fea)]\n",
    "    \n",
    "    feature = np.array([pair[1] for pair in eig_pair[:n_component]])\n",
    "    data = np.dot(x_norm, feature.T)\n",
    "    \n",
    "    return np.real(data)"
   ]
  },
  {
   "cell_type": "code",
   "execution_count": null,
   "metadata": {
    "id": "OCS5Y1yCbV9k"
   },
   "outputs": [],
   "source": [
    "def PCA_Split(image_all, label_image, self_image, label_self, n_component):\n",
    "    image_all = PCA_(image_all, n_component)\n",
    "    self_image = PCA_(self_image, n_component)\n",
    "    trainx, trainy, testx, testy = train_test_split(image_all, label_image)\n",
    "    trainx_self, trainy_self, testx_self, testy_self = train_test_split(self_image, label_self)\n",
    "\n",
    "    # Training data and testing data\n",
    "    train_x = np.concatenate([trainx, trainx_self])\n",
    "    train_y = np.concatenate([trainy, trainy_self])\n",
    "    test_x = np.concatenate([testx, testx_self])\n",
    "    test_y = np.concatenate([testy, testy_self])\n",
    "    data_pro = [train_x, train_y, test_x, test_y]\n",
    "    return data_pro"
   ]
  },
  {
   "cell_type": "code",
   "execution_count": null,
   "metadata": {
    "id": "jIEUnY03bV_h"
   },
   "outputs": [],
   "source": [
    "train_x = np.loadtxt('/content/drive/MyDrive/Colab Notebooks/train_x')\n",
    "train_y = np.loadtxt('/content/drive/MyDrive/Colab Notebooks/train_y').astype(int)\n",
    "test_x = np.loadtxt('/content/drive/MyDrive/Colab Notebooks/test_x')\n",
    "test_y = np.loadtxt('/content/drive/MyDrive/Colab Notebooks/test_y').astype(int)\n"
   ]
  },
  {
   "cell_type": "code",
   "execution_count": null,
   "metadata": {
    "colab": {
     "base_uri": "https://localhost:8080/"
    },
    "executionInfo": {
     "elapsed": 5,
     "status": "ok",
     "timestamp": 1667809341248,
     "user": {
      "displayName": "st w",
      "userId": "13569617814238227088"
     },
     "user_tz": -480
    },
    "id": "68ZwZaINh6VR",
    "outputId": "436bc3f8-62d6-4d7b-d8a0-49c46752b593"
   },
   "outputs": [
    {
     "data": {
      "text/plain": [
       "array([36., 35., 35., ..., 11., 12.,  9.])"
      ]
     },
     "execution_count": 9,
     "metadata": {},
     "output_type": "execute_result"
    }
   ],
   "source": [
    "train_x[0]"
   ]
  },
  {
   "cell_type": "code",
   "execution_count": null,
   "metadata": {
    "colab": {
     "base_uri": "https://localhost:8080/"
    },
    "executionInfo": {
     "elapsed": 2308,
     "status": "ok",
     "timestamp": 1667809343554,
     "user": {
      "displayName": "st w",
      "userId": "13569617814238227088"
     },
     "user_tz": -480
    },
    "id": "rCFJ2s8Sg9w1",
    "outputId": "0998f7d2-f385-4184-a8c4-249063e223a3"
   },
   "outputs": [
    {
     "name": "stdout",
     "output_type": "stream",
     "text": [
      "cuda\n",
      "1.12.1+cu113\n"
     ]
    }
   ],
   "source": [
    "import torch\n",
    "import torch.nn as nn\n",
    "import torchvision\n",
    "import torch.nn.functional as F\n",
    "import torch.utils.data as Data\n",
    "import torch.optim as optim\n",
    "\n",
    "device = 'cuda' if torch.cuda.is_available() else 'cpu'\n",
    "print(device)\n",
    "print(torch.__version__)\n"
   ]
  },
  {
   "cell_type": "code",
   "execution_count": null,
   "metadata": {
    "colab": {
     "base_uri": "https://localhost:8080/"
    },
    "executionInfo": {
     "elapsed": 387,
     "status": "ok",
     "timestamp": 1667809570744,
     "user": {
      "displayName": "st w",
      "userId": "13569617814238227088"
     },
     "user_tz": -480
    },
    "id": "_nvFQbovbWBO",
    "outputId": "dc386bf4-bdd3-4b5e-da08-7f8b90d9995f"
   },
   "outputs": [
    {
     "name": "stdout",
     "output_type": "stream",
     "text": [
      "CNN(\n",
      "  (conv1): Sequential(\n",
      "    (0): Conv2d(1, 20, kernel_size=(5, 5), stride=(1, 1), padding=(2, 2))\n",
      "    (1): ReLU()\n",
      "    (2): BatchNorm2d(20, eps=1e-05, momentum=0.1, affine=True, track_running_stats=True)\n",
      "    (3): MaxPool2d(kernel_size=2, stride=2, padding=0, dilation=1, ceil_mode=False)\n",
      "  )\n",
      "  (conv2): Sequential(\n",
      "    (0): Conv2d(20, 50, kernel_size=(5, 5), stride=(1, 1), padding=(2, 2))\n",
      "    (1): ReLU()\n",
      "    (2): BatchNorm2d(50, eps=1e-05, momentum=0.1, affine=True, track_running_stats=True)\n",
      "    (3): MaxPool2d(kernel_size=2, stride=2, padding=0, dilation=1, ceil_mode=False)\n",
      "  )\n",
      "  (out1): Linear(in_features=3200, out_features=500, bias=True)\n",
      "  (out2): Linear(in_features=500, out_features=26, bias=True)\n",
      ")\n"
     ]
    }
   ],
   "source": [
    "### CNN\n",
    "class CNN(nn.Module):\n",
    "  def __init__(self, num_classes):\n",
    "    super(CNN, self).__init__()\n",
    "    self.conv1 = nn.Sequential(\n",
    "        nn.Conv2d(\n",
    "            in_channels=1,\n",
    "            out_channels=20,\n",
    "            kernel_size=5,\n",
    "            stride=1,\n",
    "            padding=2,\n",
    "        ),\n",
    "        nn.ReLU(),\n",
    "        nn.BatchNorm2d(20),\n",
    "        nn.MaxPool2d(kernel_size=2, stride=2),\n",
    "    )\n",
    "\n",
    "    self.conv2 = nn.Sequential(\n",
    "        nn.Conv2d(\n",
    "            in_channels=20,\n",
    "            out_channels=50,\n",
    "            kernel_size=5,\n",
    "            stride=1,\n",
    "            padding=2,\n",
    "        ),\n",
    "        nn.ReLU(),\n",
    "        nn.BatchNorm2d(50),\n",
    "        nn.MaxPool2d(kernel_size=2, stride=2),\n",
    "    )\n",
    "\n",
    "    self.out1 = nn.Linear(50*8*8, 500)\n",
    "    self.out2 = nn.Linear(500, num_classes)\n",
    "\n",
    "  def forward(self, x):\n",
    "    x = self.conv1(x)\n",
    "    x = self.conv2(x)\n",
    "    x = x.reshape(x.shape[0], -1)\n",
    "    x = F.relu(self.out1(x))\n",
    "    x = self.out2(x)\n",
    "\n",
    "    return x\n",
    "\n",
    "model = CNN(num_classes=26).to(device)\n",
    "print(model)\n"
   ]
  },
  {
   "cell_type": "code",
   "execution_count": null,
   "metadata": {
    "id": "EX-jEmpEtEXg"
   },
   "outputs": [],
   "source": [
    "### Hypeparameters\n",
    "num_samples = train_x.shape[0]\n",
    "num_classes = 26\n",
    "batch_size = 128\n",
    "epochs = 200\n",
    "learning_rate = 1e-3\n",
    "\n",
    "optimizer = optim.Adam(model.parameters(), lr=learning_rate)\n",
    "criterion = nn.CrossEntropyLoss()\n"
   ]
  },
  {
   "cell_type": "code",
   "execution_count": null,
   "metadata": {
    "id": "nytQ9xKGtEZd"
   },
   "outputs": [],
   "source": []
  },
  {
   "cell_type": "code",
   "execution_count": null,
   "metadata": {
    "id": "jCKu7TP4bWDK"
   },
   "outputs": [],
   "source": [
    "### Dataloader\n",
    "\n",
    "train_data = torch.tensor(train_x.reshape(num_samples, 1, 32, 32)).float().to(device)\n",
    "train_label = np.zeros([num_samples, num_classes])\n",
    "for y in range(train_y.shape[0]):\n",
    "  train_label[y][train_y[y]] = 1\n",
    "\n",
    "train_label = torch.tensor(train_label).float().to(device)\n",
    "\n",
    "training = Data.TensorDataset(train_data, train_label)\n",
    "train_loader = Data.DataLoader(training, batch_size=batch_size, shuffle=True)\n"
   ]
  },
  {
   "cell_type": "code",
   "execution_count": null,
   "metadata": {
    "colab": {
     "base_uri": "https://localhost:8080/"
    },
    "executionInfo": {
     "elapsed": 2,
     "status": "ok",
     "timestamp": 1667805463060,
     "user": {
      "displayName": "st w",
      "userId": "13569617814238227088"
     },
     "user_tz": -480
    },
    "id": "dga4nDLt83vd",
    "outputId": "90b21ab0-9cea-444d-b68f-0b4d0df4ec38"
   },
   "outputs": [
    {
     "data": {
      "text/plain": [
       "torch.Size([2982, 26])"
      ]
     },
     "execution_count": 23,
     "metadata": {},
     "output_type": "execute_result"
    }
   ],
   "source": [
    "train_label.shape"
   ]
  },
  {
   "cell_type": "code",
   "execution_count": null,
   "metadata": {
    "id": "F6nSAWkG83xy"
   },
   "outputs": [],
   "source": [
    "test_data = torch.tensor(test_x.reshape(test_x.shape[0], 1, 32, 32)).float().to(device)\n",
    "test_label = torch.tensor(test_y).float().to(device)\n",
    "testing = Data.TensorDataset(test_data, test_label)\n",
    "test_loader = Data.DataLoader(dataset=testing, batch_size=batch_size, shuffle=False)\n",
    "\n",
    "def check_accuracy(loader, model):\n",
    "    model.eval()\n",
    "    # print(\"checking accracy on testing data\")\n",
    "\n",
    "    num_correct = 0\n",
    "    num_samples = 0\n",
    "    res_class = []\n",
    "\n",
    "    with torch.no_grad():\n",
    "      for x, y in loader:\n",
    "        x = x.to(device)\n",
    "        y = y.to(device)\n",
    "\n",
    "        score = model(x)\n",
    "        _, prediction = score.max(1)\n",
    "\n",
    "        prediction = prediction.to(device='cpu').numpy()\n",
    "        res_class.append(prediction)\n",
    "\n",
    "        label = y.to(device='cpu').numpy().reshape(1, prediction.shape[0])\n",
    "        num_correct += np.sum((prediction==label[0]))\n",
    "        num_samples += prediction.shape[0]\n",
    "    \n",
    "    res = np.concatenate(res_class)\n",
    "    acc = num_correct/num_samples\n",
    "    model.train()\n",
    "    return res, acc\n",
    "\n"
   ]
  },
  {
   "cell_type": "code",
   "execution_count": null,
   "metadata": {
    "colab": {
     "base_uri": "https://localhost:8080/"
    },
    "executionInfo": {
     "elapsed": 28549,
     "status": "ok",
     "timestamp": 1667809622894,
     "user": {
      "displayName": "st w",
      "userId": "13569617814238227088"
     },
     "user_tz": -480
    },
    "id": "M_vU-KKYbWFW",
    "outputId": "1f7cac98-696c-45c8-a437-be466fbb7fba"
   },
   "outputs": [
    {
     "name": "stdout",
     "output_type": "stream",
     "text": [
      "epoch: 0 loss: 0.17845569550991058 accuracy: 0.9460093896713615\n",
      "epoch: 1 loss: 0.12098465859889984 accuracy: 0.9804381846635368\n",
      "epoch: 2 loss: 0.013142694719135761 accuracy: 0.9859154929577465\n",
      "epoch: 3 loss: 0.003539911936968565 accuracy: 0.9929577464788732\n",
      "epoch: 4 loss: 0.001076349290087819 accuracy: 0.9929577464788732\n",
      "epoch: 5 loss: 0.0008281811606138945 accuracy: 0.9937402190923318\n",
      "epoch: 6 loss: 0.12909334897994995 accuracy: 0.986697965571205\n",
      "epoch: 7 loss: 0.049006540328264236 accuracy: 0.9843505477308294\n",
      "epoch: 8 loss: 0.012225382961332798 accuracy: 0.9874804381846636\n",
      "epoch: 9 loss: 0.0008614477119408548 accuracy: 0.986697965571205\n",
      "epoch: 10 loss: 0.001979112159460783 accuracy: 0.9937402190923318\n",
      "epoch: 11 loss: 0.0008049123571254313 accuracy: 0.9906103286384976\n",
      "epoch: 12 loss: 0.000340265833074227 accuracy: 0.9945226917057903\n",
      "epoch: 13 loss: 0.00019660453835967928 accuracy: 0.9945226917057903\n",
      "epoch: 14 loss: 9.137872257269919e-05 accuracy: 0.9953051643192489\n",
      "epoch: 15 loss: 6.0968701291130856e-05 accuracy: 0.9953051643192489\n",
      "epoch: 16 loss: 5.04283161717467e-05 accuracy: 0.9953051643192489\n",
      "epoch: 17 loss: 3.17735830321908e-05 accuracy: 0.9953051643192489\n",
      "epoch: 18 loss: 8.143531158566475e-05 accuracy: 0.9953051643192489\n",
      "epoch: 19 loss: 2.4416820451733656e-05 accuracy: 0.9953051643192489\n",
      "epoch: 20 loss: 3.151284545310773e-05 accuracy: 0.9953051643192489\n",
      "epoch: 21 loss: 7.147426367737353e-05 accuracy: 0.9945226917057903\n",
      "epoch: 22 loss: 2.4790871975710616e-05 accuracy: 0.9945226917057903\n",
      "epoch: 23 loss: 0.00010448788816574961 accuracy: 0.9945226917057903\n",
      "epoch: 24 loss: 3.6555018596118316e-05 accuracy: 0.9945226917057903\n",
      "epoch: 25 loss: 4.9328267778037116e-05 accuracy: 0.9945226917057903\n",
      "epoch: 26 loss: 6.093770934967324e-05 accuracy: 0.9945226917057903\n",
      "epoch: 27 loss: 5.8055193221662194e-05 accuracy: 0.9945226917057903\n",
      "epoch: 28 loss: 3.719278538483195e-05 accuracy: 0.9945226917057903\n",
      "epoch: 29 loss: 8.796885958872736e-05 accuracy: 0.9945226917057903\n",
      "epoch: 30 loss: 3.5591048799687997e-05 accuracy: 0.9945226917057903\n",
      "epoch: 31 loss: 3.835330790025182e-05 accuracy: 0.9945226917057903\n",
      "epoch: 32 loss: 1.1321336387482006e-05 accuracy: 0.9945226917057903\n",
      "epoch: 33 loss: 2.5613486286601983e-05 accuracy: 0.9945226917057903\n",
      "epoch: 34 loss: 2.6881798476097174e-05 accuracy: 0.9945226917057903\n",
      "epoch: 35 loss: 2.324765591765754e-05 accuracy: 0.9945226917057903\n",
      "epoch: 36 loss: 8.25043098302558e-05 accuracy: 0.9945226917057903\n",
      "epoch: 37 loss: 2.8417280191206373e-05 accuracy: 0.9945226917057903\n",
      "epoch: 38 loss: 1.8284570614923723e-05 accuracy: 0.9945226917057903\n",
      "epoch: 39 loss: 3.536507210810669e-05 accuracy: 0.9945226917057903\n",
      "epoch: 40 loss: 1.681943831499666e-05 accuracy: 0.9945226917057903\n",
      "epoch: 41 loss: 2.0735156795126386e-05 accuracy: 0.9945226917057903\n",
      "epoch: 42 loss: 1.914671520353295e-05 accuracy: 0.9945226917057903\n",
      "epoch: 43 loss: 3.7435154808918014e-05 accuracy: 0.9945226917057903\n",
      "epoch: 44 loss: 2.6505100322538055e-05 accuracy: 0.9945226917057903\n",
      "epoch: 45 loss: 3.9589390326000284e-06 accuracy: 0.9945226917057903\n",
      "epoch: 46 loss: 1.6139436411322095e-05 accuracy: 0.9945226917057903\n",
      "epoch: 47 loss: 7.042616744001862e-06 accuracy: 0.9945226917057903\n",
      "epoch: 48 loss: 1.722126398817636e-05 accuracy: 0.9945226917057903\n",
      "epoch: 49 loss: 1.0796964488690719e-05 accuracy: 0.9945226917057903\n",
      "epoch: 50 loss: 2.719817302931915e-06 accuracy: 0.9945226917057903\n",
      "epoch: 51 loss: 1.1493981219246052e-05 accuracy: 0.9945226917057903\n",
      "epoch: 52 loss: 1.4498713426291943e-05 accuracy: 0.9945226917057903\n",
      "epoch: 53 loss: 4.357745638117194e-05 accuracy: 0.9945226917057903\n",
      "epoch: 54 loss: 6.986132575548254e-06 accuracy: 0.9945226917057903\n",
      "epoch: 55 loss: 1.3652003872266505e-05 accuracy: 0.9945226917057903\n",
      "epoch: 56 loss: 1.0144843145099003e-05 accuracy: 0.9945226917057903\n",
      "epoch: 57 loss: 1.505356249253964e-05 accuracy: 0.9945226917057903\n",
      "epoch: 58 loss: 1.8580127289169468e-05 accuracy: 0.9945226917057903\n",
      "epoch: 59 loss: 1.530376357550267e-05 accuracy: 0.9945226917057903\n",
      "epoch: 60 loss: 9.70283872447908e-06 accuracy: 0.9945226917057903\n",
      "epoch: 61 loss: 1.1437415196269285e-05 accuracy: 0.9945226917057903\n",
      "epoch: 62 loss: 1.453982804378029e-05 accuracy: 0.9945226917057903\n",
      "epoch: 63 loss: 1.1781907232943922e-05 accuracy: 0.9945226917057903\n",
      "epoch: 64 loss: 7.070783340168418e-06 accuracy: 0.9945226917057903\n",
      "epoch: 65 loss: 7.629259016539436e-06 accuracy: 0.9945226917057903\n",
      "epoch: 66 loss: 1.1412376807129476e-05 accuracy: 0.9945226917057903\n",
      "epoch: 67 loss: 4.909480594506022e-06 accuracy: 0.9945226917057903\n",
      "epoch: 68 loss: 3.2656764687999384e-06 accuracy: 0.9945226917057903\n",
      "epoch: 69 loss: 3.695440909723402e-06 accuracy: 0.9945226917057903\n",
      "epoch: 70 loss: 2.3214263364934595e-06 accuracy: 0.9945226917057903\n",
      "epoch: 71 loss: 1.2283970136195421e-05 accuracy: 0.9945226917057903\n",
      "epoch: 72 loss: 5.332956789061427e-06 accuracy: 0.9945226917057903\n",
      "epoch: 73 loss: 2.9676332360395463e-06 accuracy: 0.9945226917057903\n",
      "epoch: 74 loss: 7.2652092057978734e-06 accuracy: 0.9945226917057903\n",
      "epoch: 75 loss: 2.588077222753782e-06 accuracy: 0.9945226917057903\n",
      "epoch: 76 loss: 4.037292455905117e-06 accuracy: 0.9945226917057903\n",
      "epoch: 77 loss: 3.482135070953518e-06 accuracy: 0.9945226917057903\n",
      "epoch: 78 loss: 1.7002904542096076e-06 accuracy: 0.9945226917057903\n",
      "epoch: 79 loss: 5.39568691237946e-06 accuracy: 0.9945226917057903\n",
      "epoch: 80 loss: 4.830922534893034e-06 accuracy: 0.9945226917057903\n",
      "epoch: 81 loss: 1.1468780940049328e-05 accuracy: 0.9945226917057903\n",
      "epoch: 82 loss: 1.0646918781276327e-05 accuracy: 0.9945226917057903\n",
      "epoch: 83 loss: 7.130430731194792e-06 accuracy: 0.9945226917057903\n",
      "epoch: 84 loss: 5.219980721449247e-06 accuracy: 0.9945226917057903\n",
      "epoch: 85 loss: 2.371623622821062e-06 accuracy: 0.9945226917057903\n",
      "epoch: 86 loss: 7.447233656421304e-06 accuracy: 0.9945226917057903\n",
      "epoch: 87 loss: 4.062435891682981e-06 accuracy: 0.9945226917057903\n",
      "epoch: 88 loss: 1.9104775219602743e-06 accuracy: 0.9945226917057903\n",
      "epoch: 89 loss: 5.935287390457233e-06 accuracy: 0.9945226917057903\n",
      "epoch: 90 loss: 2.3277002583199646e-06 accuracy: 0.9945226917057903\n",
      "epoch: 91 loss: 8.366455404029693e-06 accuracy: 0.9945226917057903\n",
      "epoch: 92 loss: 8.134146810334641e-06 accuracy: 0.9945226917057903\n",
      "epoch: 93 loss: 2.961357722597313e-06 accuracy: 0.9945226917057903\n",
      "epoch: 94 loss: 2.073597897833679e-06 accuracy: 0.9945226917057903\n",
      "epoch: 95 loss: 1.1210981028852984e-05 accuracy: 0.9945226917057903\n",
      "epoch: 96 loss: 4.749477284349268e-06 accuracy: 0.9945226917057903\n",
      "epoch: 97 loss: 4.984689894627081e-06 accuracy: 0.9945226917057903\n",
      "epoch: 98 loss: 5.050646450399654e-06 accuracy: 0.9945226917057903\n",
      "epoch: 99 loss: 3.3409496609237976e-06 accuracy: 0.9945226917057903\n",
      "epoch: 100 loss: 3.7174013414187357e-06 accuracy: 0.9945226917057903\n",
      "epoch: 101 loss: 1.4148024547466775e-06 accuracy: 0.9945226917057903\n",
      "epoch: 102 loss: 3.7864210753468797e-06 accuracy: 0.9945226917057903\n",
      "epoch: 103 loss: 2.1833918708580313e-06 accuracy: 0.9945226917057903\n",
      "epoch: 104 loss: 2.4971050152089447e-06 accuracy: 0.9945226917057903\n",
      "epoch: 105 loss: 2.5033725705725374e-06 accuracy: 0.9945226917057903\n",
      "epoch: 106 loss: 2.2084896045271307e-06 accuracy: 0.9945226917057903\n",
      "epoch: 107 loss: 3.3409326078981394e-06 accuracy: 0.9945226917057903\n",
      "epoch: 108 loss: 2.2084916508902097e-06 accuracy: 0.9945226917057903\n",
      "epoch: 109 loss: 4.169144631305244e-06 accuracy: 0.9945226917057903\n",
      "epoch: 110 loss: 2.3621971649845364e-06 accuracy: 0.9945226917057903\n",
      "epoch: 111 loss: 1.1513041044963757e-06 accuracy: 0.9945226917057903\n",
      "epoch: 112 loss: 5.0537646529846825e-06 accuracy: 0.9945226917057903\n",
      "epoch: 113 loss: 7.735898179817013e-06 accuracy: 0.9945226917057903\n",
      "epoch: 114 loss: 2.2273193280852865e-06 accuracy: 0.9945226917057903\n",
      "epoch: 115 loss: 8.300291483465116e-06 accuracy: 0.9945226917057903\n",
      "epoch: 116 loss: 3.1213719466904877e-06 accuracy: 0.9945226917057903\n",
      "epoch: 117 loss: 5.094533662486356e-06 accuracy: 0.9945226917057903\n",
      "epoch: 118 loss: 3.3503824852232356e-06 accuracy: 0.9945226917057903\n",
      "epoch: 119 loss: 4.031100615975447e-06 accuracy: 0.9945226917057903\n",
      "epoch: 120 loss: 4.006003564427374e-06 accuracy: 0.9945226917057903\n",
      "epoch: 121 loss: 1.3740365147896227e-06 accuracy: 0.9945226917057903\n",
      "epoch: 122 loss: 3.017842573171947e-06 accuracy: 0.9945226917057903\n",
      "epoch: 123 loss: 3.933834705094341e-06 accuracy: 0.9945226917057903\n",
      "epoch: 124 loss: 4.140837063459912e-06 accuracy: 0.9945226917057903\n",
      "epoch: 125 loss: 1.7002917047648225e-06 accuracy: 0.9945226917057903\n",
      "epoch: 126 loss: 9.72487214312423e-07 accuracy: 0.9945226917057903\n",
      "epoch: 127 loss: 2.8735432806570316e-06 accuracy: 0.9945226917057903\n",
      "epoch: 128 loss: 2.3245565898832865e-06 accuracy: 0.9945226917057903\n",
      "epoch: 129 loss: 7.403495487778855e-07 accuracy: 0.9945226917057903\n",
      "epoch: 130 loss: 7.121162184375862e-07 accuracy: 0.9945226917057903\n",
      "epoch: 131 loss: 2.8986355573579203e-06 accuracy: 0.9945226917057903\n",
      "epoch: 132 loss: 3.2782313610368874e-06 accuracy: 0.9945226917057903\n",
      "epoch: 133 loss: 9.348472076453618e-07 accuracy: 0.9945226917057903\n",
      "epoch: 134 loss: 2.5190522592311027e-06 accuracy: 0.9945226917057903\n",
      "epoch: 135 loss: 1.0885648862313246e-06 accuracy: 0.9945226917057903\n",
      "epoch: 136 loss: 2.236723730675294e-06 accuracy: 0.9945226917057903\n",
      "epoch: 137 loss: 9.128886517828505e-07 accuracy: 0.9945226917057903\n",
      "epoch: 138 loss: 2.7449223125586286e-06 accuracy: 0.9945226917057903\n",
      "epoch: 139 loss: 3.1652905363444006e-06 accuracy: 0.9945226917057903\n",
      "epoch: 140 loss: 1.0258221436743042e-06 accuracy: 0.9945226917057903\n",
      "epoch: 141 loss: 3.1213369311444694e-06 accuracy: 0.9945226917057903\n",
      "epoch: 142 loss: 1.9669280391099164e-06 accuracy: 0.9945226917057903\n",
      "epoch: 143 loss: 1.4618683508160757e-06 accuracy: 0.9945226917057903\n",
      "epoch: 144 loss: 8.030917797441361e-07 accuracy: 0.9945226917057903\n",
      "epoch: 145 loss: 1.7693085965220234e-06 accuracy: 0.9945226917057903\n",
      "epoch: 146 loss: 2.5817951154749608e-06 accuracy: 0.9945226917057903\n",
      "epoch: 147 loss: 7.183913908193063e-07 accuracy: 0.9945226917057903\n",
      "epoch: 148 loss: 1.094838694370992e-06 accuracy: 0.9945226917057903\n",
      "epoch: 149 loss: 4.7400840230693575e-06 accuracy: 0.9945226917057903\n",
      "epoch: 150 loss: 4.768360213347478e-07 accuracy: 0.9945226917057903\n",
      "epoch: 151 loss: 1.5120687066882965e-06 accuracy: 0.9945226917057903\n",
      "epoch: 152 loss: 1.640680920900195e-06 accuracy: 0.9945226917057903\n",
      "epoch: 153 loss: 6.556489324793802e-07 accuracy: 0.9945226917057903\n",
      "epoch: 154 loss: 7.560360018032952e-07 accuracy: 0.9945226917057903\n",
      "epoch: 155 loss: 7.999552735782345e-07 accuracy: 0.9945226917057903\n",
      "epoch: 156 loss: 2.6319992230128264e-06 accuracy: 0.9945226917057903\n",
      "epoch: 157 loss: 3.011596447777265e-07 accuracy: 0.9945226917057903\n",
      "epoch: 158 loss: 1.7536107179694227e-06 accuracy: 0.9945226917057903\n",
      "epoch: 159 loss: 1.5716703956059064e-06 accuracy: 0.9945226917057903\n",
      "epoch: 160 loss: 3.1119209324970143e-06 accuracy: 0.9945226917057903\n",
      "epoch: 161 loss: 5.238924245531962e-07 accuracy: 0.9945226917057903\n",
      "epoch: 162 loss: 8.689704031894507e-07 accuracy: 0.9945226917057903\n",
      "epoch: 163 loss: 2.402988002359052e-06 accuracy: 0.9945226917057903\n",
      "epoch: 164 loss: 1.0791485465233563e-06 accuracy: 0.9945226917057903\n",
      "epoch: 165 loss: 2.004571570068947e-06 accuracy: 0.9945226917057903\n",
      "epoch: 166 loss: 1.8822328229362029e-06 accuracy: 0.9945226917057903\n",
      "epoch: 167 loss: 5.772220106337045e-07 accuracy: 0.9945226917057903\n",
      "epoch: 168 loss: 8.658327601551719e-07 accuracy: 0.9945226917057903\n",
      "epoch: 169 loss: 6.493749538094562e-07 accuracy: 0.9945226917057903\n",
      "epoch: 170 loss: 6.054565346857999e-07 accuracy: 0.9945226917057903\n",
      "epoch: 171 loss: 1.8100874967785785e-06 accuracy: 0.9945226917057903\n",
      "epoch: 172 loss: 2.970788500533672e-06 accuracy: 0.9945226917057903\n",
      "epoch: 173 loss: 6.525109483845881e-07 accuracy: 0.9945226917057903\n",
      "epoch: 174 loss: 6.80745245063008e-07 accuracy: 0.9945226917057903\n",
      "epoch: 175 loss: 3.168448472479213e-07 accuracy: 0.9945226917057903\n",
      "epoch: 176 loss: 3.795871350575908e-07 accuracy: 0.9945226917057903\n",
      "epoch: 177 loss: 1.1418918575145653e-06 accuracy: 0.9945226917057903\n",
      "epoch: 178 loss: 4.329170906203217e-07 accuracy: 0.9945226917057903\n",
      "epoch: 179 loss: 7.96817460013699e-07 accuracy: 0.9945226917057903\n",
      "epoch: 180 loss: 2.3967122615431435e-06 accuracy: 0.9945226917057903\n",
      "epoch: 181 loss: 8.940627935771772e-07 accuracy: 0.9945226917057903\n",
      "epoch: 182 loss: 8.375978950425633e-07 accuracy: 0.9945226917057903\n",
      "epoch: 183 loss: 1.2516916285676416e-06 accuracy: 0.9945226917057903\n",
      "epoch: 184 loss: 8.81518644746393e-07 accuracy: 0.9945226917057903\n",
      "epoch: 185 loss: 1.9700717075465946e-06 accuracy: 0.9945226917057903\n",
      "epoch: 186 loss: 3.8586111372751475e-07 accuracy: 0.9945226917057903\n",
      "epoch: 187 loss: 7.466240390385792e-07 accuracy: 0.9945226917057903\n",
      "epoch: 188 loss: 2.7606319008555147e-07 accuracy: 0.9945226917057903\n",
      "epoch: 189 loss: 6.117303428254672e-07 accuracy: 0.9945226917057903\n",
      "epoch: 190 loss: 5.67811071050528e-07 accuracy: 0.9945226917057903\n",
      "epoch: 191 loss: 9.285755027121922e-07 accuracy: 0.9945226917057903\n",
      "epoch: 192 loss: 1.7128378431152669e-06 accuracy: 0.9945226917057903\n",
      "epoch: 193 loss: 4.23506008928598e-07 accuracy: 0.9945226917057903\n",
      "epoch: 194 loss: 8.250516430052812e-07 accuracy: 0.9945226917057903\n",
      "epoch: 195 loss: 1.0477804153197212e-06 accuracy: 0.9945226917057903\n",
      "epoch: 196 loss: 7.403511403936136e-07 accuracy: 0.9945226917057903\n",
      "epoch: 197 loss: 7.183901402640913e-07 accuracy: 0.9945226917057903\n",
      "epoch: 198 loss: 7.65446827699634e-07 accuracy: 0.9945226917057903\n",
      "epoch: 199 loss: 7.152532361942576e-07 accuracy: 0.9945226917057903\n"
     ]
    }
   ],
   "source": [
    "### Training\n",
    "model.train()\n",
    "\n",
    "for i in range(epochs):\n",
    "  for barch_idx, (data, target) in enumerate(train_loader):\n",
    "    data = data.to(device)\n",
    "    target = target.to(device)\n",
    "\n",
    "    score = model(data)\n",
    "    loss = criterion(score, target)\n",
    "    loss.requires_grad_(True)\n",
    "\n",
    "    optimizer.zero_grad()\n",
    "    loss.backward()\n",
    "    optimizer.step()\n",
    "\n",
    "  _, acc = check_accuracy(test_loader, model)\n",
    "  print(\"epoch:\", i, \"loss:\", loss.item(), \"accuracy:\", acc)\n",
    "\n",
    "\n"
   ]
  },
  {
   "cell_type": "code",
   "execution_count": null,
   "metadata": {
    "colab": {
     "base_uri": "https://localhost:8080/"
    },
    "executionInfo": {
     "elapsed": 419,
     "status": "ok",
     "timestamp": 1667809640567,
     "user": {
      "displayName": "st w",
      "userId": "13569617814238227088"
     },
     "user_tz": -480
    },
    "id": "ZmdJ8TSlbWHF",
    "outputId": "27e46e73-216b-44fc-8363-ed0a49bbb703"
   },
   "outputs": [
    {
     "name": "stdout",
     "output_type": "stream",
     "text": [
      "checking accracy on testing data\n",
      "The result of classification is:  [ 0  0  0 ... 25 25 25]\n",
      "The accuracy of results is:  0.9945226917057903\n"
     ]
    }
   ],
   "source": [
    "test_data = torch.tensor(test_x.reshape(test_x.shape[0], 1, 32, 32)).float().to(device)\n",
    "test_label = torch.tensor(test_y).float().to(device)\n",
    "testing = Data.TensorDataset(test_data, test_label)\n",
    "test_loader = Data.DataLoader(dataset=testing, batch_size=batch_size, shuffle=False)\n",
    "\n",
    "def check_accuracy(loader, model):\n",
    "    model.eval()\n",
    "    print(\"checking accracy on testing data\")\n",
    "\n",
    "    num_correct = 0\n",
    "    num_samples = 0\n",
    "    res_class = []\n",
    "\n",
    "    with torch.no_grad():\n",
    "      for x, y in loader:\n",
    "        x = x.to(device)\n",
    "        y = y.to(device)\n",
    "\n",
    "        score = model(x)\n",
    "        _, prediction = score.max(1)\n",
    "\n",
    "        prediction = prediction.to(device='cpu').numpy()\n",
    "        res_class.append(prediction)\n",
    "\n",
    "        label = y.to(device='cpu').numpy().reshape(1, prediction.shape[0])\n",
    "        num_correct += np.sum((prediction==label[0]))\n",
    "        num_samples += prediction.shape[0]\n",
    "    \n",
    "    res = np.concatenate(res_class)\n",
    "    acc = num_correct/num_samples\n",
    "    return res, acc\n",
    "\n",
    "res, acc = check_accuracy(test_loader, model)\n",
    "print(\"The result of classification is: \", res)\n",
    "print(\"The accuracy of results is: \", acc)\n",
    "torch.save(model.state_dict(), '/content/drive/MyDrive/Colab Notebooks/pr_cnn.pth')"
   ]
  },
  {
   "cell_type": "code",
   "execution_count": null,
   "metadata": {
    "id": "iuaio9mebWI6"
   },
   "outputs": [],
   "source": []
  }
 ],
 "metadata": {
  "colab": {
   "authorship_tag": "ABX9TyP8OCd6y8M0sDOM0QMKS7r3",
   "collapsed_sections": [],
   "provenance": []
  },
  "gpuClass": "standard",
  "kernelspec": {
   "display_name": "Python 3 (ipykernel)",
   "language": "python",
   "name": "python3"
  },
  "language_info": {
   "codemirror_mode": {
    "name": "ipython",
    "version": 3
   },
   "file_extension": ".py",
   "mimetype": "text/x-python",
   "name": "python",
   "nbconvert_exporter": "python",
   "pygments_lexer": "ipython3",
   "version": "3.9.12"
  }
 },
 "nbformat": 4,
 "nbformat_minor": 1
}
