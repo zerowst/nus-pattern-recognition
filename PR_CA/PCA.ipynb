{
 "cells": [
  {
   "cell_type": "code",
   "execution_count": 1,
   "id": "3f0de60c",
   "metadata": {},
   "outputs": [],
   "source": [
    "import sys\n",
    "import os\n",
    "import random\n",
    "import numpy as np\n",
    "import matplotlib.pyplot as plt\n",
    "from mpl_toolkits.mplot3d import Axes3D\n",
    "import scipy\n",
    "import libsvm\n",
    "from libsvm.svmutil import *\n",
    "\n",
    "from PIL import Image"
   ]
  },
  {
   "cell_type": "code",
   "execution_count": null,
   "id": "8da30768",
   "metadata": {},
   "outputs": [],
   "source": []
  },
  {
   "cell_type": "code",
   "execution_count": 2,
   "id": "d5e0ed41",
   "metadata": {},
   "outputs": [],
   "source": [
    "### Data processing\n",
    "\n",
    "def read_image(dirpath):\n",
    "    image_data = []\n",
    "    \n",
    "    for file in os.listdir(dirpath):\n",
    "        if os.path.isfile(os.path.join(dirpath, file)):\n",
    "            c = os.path.basename(file)\n",
    "            filename = dirpath + '/' + c\n",
    "            image = Image.open(filename).resize((32, 32)).convert('L')\n",
    "            image_arr = np.array(image).reshape(1, 1024)\n",
    "            image_data.append(image_arr)\n",
    "    \n",
    "    return image_data\n",
    "  "
   ]
  },
  {
   "cell_type": "code",
   "execution_count": 3,
   "id": "252123e4",
   "metadata": {},
   "outputs": [],
   "source": [
    "def process_image(folderpath):\n",
    "    data_all = []\n",
    "    for i in range(1, 26):\n",
    "        ### '/home/x/PR_CA/PIE/'\n",
    "        dirpath = folderpath + str(i)  \n",
    "        image_list = read_image(dirpath)\n",
    "        data_image = np.concatenate(image_list, axis=0)\n",
    "        data_all.append(data_image)\n",
    "    return data_all\n",
    "    "
   ]
  },
  {
   "cell_type": "code",
   "execution_count": 4,
   "id": "453443f9",
   "metadata": {},
   "outputs": [],
   "source": [
    "def train_test_split(data, label):\n",
    "    proportion = 0.7\n",
    "    lens = data.shape[0]\n",
    "    print(lens)\n",
    "    idx = random.sample(range(0, lens), int(proportion*lens))\n",
    "    idx = sorted(idx)\n",
    "    \n",
    "    train_x, train_y, test_x, test_y = [], [], [], []\n",
    "    for i in range(lens):\n",
    "        if i in idx:\n",
    "            train_x.append(data[i].reshape(1, -1))\n",
    "            train_y.append(label[i].reshape(1, -1))\n",
    "        else:\n",
    "            test_x.append(data[i].reshape(1, -1))\n",
    "            test_y.append(label[i].reshape(1, -1))\n",
    "    \n",
    "    trainx = np.concatenate(train_x)\n",
    "    trainy = np.concatenate(train_y)\n",
    "    testx = np.concatenate(test_x)\n",
    "    testy = np.concatenate(test_y)\n",
    "    return trainx, trainy, testx, testy\n"
   ]
  },
  {
   "cell_type": "code",
   "execution_count": 5,
   "id": "ba2e35da",
   "metadata": {},
   "outputs": [],
   "source": [
    "def PCA_(dataset, n_component):\n",
    "    N, Fea = dataset.shape\n",
    "    x_mean = np.mean(dataset, 0)\n",
    "    x_norm = dataset - x_mean\n",
    "    \n",
    "    co_var = np.zeros([Fea, Fea])\n",
    "    co_var = np.dot(x_norm.T, x_norm)\n",
    "    \n",
    "    eig_val, eig_vec = np.linalg.eig(co_var)\n",
    "    eig_pair = [[np.abs(eig_val[i]), eig_vec[:, i]] for i in range(Fea)]\n",
    "    \n",
    "    feature = np.array([pair[1] for pair in eig_pair[:n_component]])\n",
    "    data = np.dot(x_norm, feature.T)\n",
    "    \n",
    "    return np.real(data)"
   ]
  },
  {
   "cell_type": "code",
   "execution_count": 6,
   "id": "c67862ca",
   "metadata": {},
   "outputs": [],
   "source": [
    "def PCA_Split(image_all, label_image, self_image, label_self, n_component):\n",
    "    image_all = PCA_(image_all, n_component)\n",
    "    self_image = PCA_(self_image, n_component)\n",
    "    trainx, trainy, testx, testy = train_test_split(image_all, label_image)\n",
    "    trainx_self, trainy_self, testx_self, testy_self = train_test_split(self_image, label_self)\n",
    "\n",
    "    # Training data and testing data\n",
    "    train_x = np.concatenate([trainx, trainx_self])\n",
    "    train_y = np.concatenate([trainy, trainy_self])\n",
    "    test_x = np.concatenate([testx, testx_self])\n",
    "    test_y = np.concatenate([testy, testy_self])\n",
    "    data_pro = [train_x, train_y, test_x, test_y]\n",
    "    return data_pro\n"
   ]
  },
  {
   "cell_type": "code",
   "execution_count": 8,
   "id": "5ba92a0e",
   "metadata": {},
   "outputs": [
    {
     "name": "stdout",
     "output_type": "stream",
     "text": [
      "4250\n",
      "10\n",
      "4250\n",
      "10\n",
      "4250\n",
      "10\n",
      "4250\n",
      "10\n"
     ]
    }
   ],
   "source": [
    "# folderpath = '/home/x/PR_CA/PIE\n",
    "folderpath = 'PIE/'\n",
    "data_all = process_image(folderpath)\n",
    "image_all = np.concatenate(data_all)\n",
    "label_image = np.arange(0, 25, 1).repeat(170)\n",
    "\n",
    "self_folder = 'PIE/0'\n",
    "self_image = np.concatenate(read_image(self_folder))\n",
    "label_self = np.array([25]).repeat(10)\n",
    "\n",
    "trainx, trainy, testx, testy = train_test_split(image_all, label_image)\n",
    "trainx_self, trainy_self, testx_self, testy_self = train_test_split(self_image, label_self)\n",
    "\n",
    "# Training data and testing data\n",
    "train_x = np.concatenate([trainx, trainx_self])\n",
    "train_y = np.concatenate([trainy, trainy_self])\n",
    "test_x = np.concatenate([testx, testx_self])\n",
    "test_y = np.concatenate([testy, testy_self])\n",
    "\n",
    "# PCA_processed training and testing data\n",
    "# train_x_40, train_y_40, test_x_40, test_y_40 = PCA_Split(image_all, label_image, self_image, label_self, 40)\n",
    "# train_x_80, train_y_80, test_x_80, test_y_80 = PCA_Split(image_all, label_image, self_image, label_self, 80)\n",
    "# train_x_200, train_y_200, test_x_200, test_y_200 = PCA_Split(image_all, label_image, self_image, label_self, 200)\n",
    "\n",
    "data_pro_40 = PCA_Split(image_all, label_image, self_image, label_self, 40)\n",
    "data_pro_80 = PCA_Split(image_all, label_image, self_image, label_self, 80)\n",
    "data_pro_200 = PCA_Split(image_all, label_image, self_image, label_self, 200)\n",
    "\n",
    "\n"
   ]
  },
  {
   "cell_type": "code",
   "execution_count": 23,
   "id": "80833ed4",
   "metadata": {},
   "outputs": [
    {
     "name": "stdout",
     "output_type": "stream",
     "text": [
      "(2982, 1024)\n",
      "(1278, 1024)\n"
     ]
    }
   ],
   "source": [
    "print(train_x.shape)\n",
    "print(test_x.shape)"
   ]
  },
  {
   "cell_type": "code",
   "execution_count": 22,
   "id": "a429b9ce",
   "metadata": {},
   "outputs": [
    {
     "data": {
      "image/png": "[encoded data removed]",
      "text/plain": [
       "<Figure size 475.2x158.4 with 3 Axes>"
      ]
     },
     "metadata": {},
     "output_type": "display_data"
    }
   ],
   "source": [
    "### eigenfaces\n",
    "\n",
    "def plot_eigenface(images, titles, h, w, n_row, n_col):\n",
    "    plt.figure(figsize=(2.2 * n_col, 2.2 * n_row))\n",
    "    plt.subplots_adjust(bottom=0, left=.01, right=.99, top=.90, hspace=.20)\n",
    "    for i in range(n_row * n_col):\n",
    "        plt.subplot(n_row, n_col, i + 1)\n",
    "        plt.imshow(images[i].reshape((h, w)), cmap=plt.cm.gray)\n",
    "        plt.title(titles[i])\n",
    "        plt.xticks(())\n",
    "        plt.yticks(())\n",
    "        \n",
    "n_pc = 3\n",
    "h = 32\n",
    "w = 32\n",
    "\n",
    "data = image_all\n",
    "n_samples, n_features = data.shape\n",
    "mean = np.mean(data, axis=0)\n",
    "centered_data = data-mean\n",
    "U, S, V = np.linalg.svd(centered_data)\n",
    "components = V[:n_pc]\n",
    "projected = U[:,:n_pc]*S[:n_pc]\n",
    "\n",
    "eigenfaces = components.reshape((3, h, w))\n",
    "eigenface_titles = [\"eigenface %d\" % i for i in range(eigenfaces.shape[0])]\n",
    "    \n",
    "plot_portraits(eigenfaces, eigenface_titles, h, w, rows, cols)"
   ]
  },
  {
   "cell_type": "code",
   "execution_count": null,
   "id": "f9b1f898",
   "metadata": {},
   "outputs": [],
   "source": []
  },
  {
   "cell_type": "code",
   "execution_count": null,
   "id": "2951fa9b",
   "metadata": {},
   "outputs": [],
   "source": []
  },
  {
   "cell_type": "code",
   "execution_count": 40,
   "id": "fdee3e69",
   "metadata": {},
   "outputs": [
    {
     "name": "stdout",
     "output_type": "stream",
     "text": [
      "The number of selected selfie image is: 2\n"
     ]
    },
    {
     "data": {
      "image/png": "[encoded data removed]",
      "text/plain": [
       "<Figure size 432x288 with 1 Axes>"
      ]
     },
     "metadata": {
      "needs_background": "light"
     },
     "output_type": "display_data"
    },
    {
     "data": {
      "image/png": "[encoded data removed]",
      "text/plain": [
       "<Figure size 432x288 with 1 Axes>"
      ]
     },
     "metadata": {
      "needs_background": "light"
     },
     "output_type": "display_data"
    }
   ],
   "source": [
    "### PCA plot\n",
    "def PCA_plot(data): ##origin_image_data\n",
    "    lens = data.shape[0]\n",
    "    num_sample = 500\n",
    "    idx = random.sample(range(0, lens), num_sample)\n",
    "    \n",
    "    data_plot = [data[i].reshape(1, -1) for i in idx]\n",
    "    data_plot = np.concatenate(data_plot)\n",
    "    \n",
    "    self_data = sum(i>=2975 for i in idx)\n",
    "    print(\"The number of selected selfie image is:\", self_data)\n",
    "    \n",
    "    # 2D plot\n",
    "#     model_pca2 = PCA(n_components=2)\n",
    "#     model_pca2.fit(data_plot)\n",
    "#     data2 = model_pca2.transform(data_plot)\n",
    "    data2 = PCA_(data_plot, 2)\n",
    "#     print(data2)\n",
    "    plt.scatter(data2[:, 0], data2[:, 1])\n",
    "    \n",
    "    if(self_data != 0):\n",
    "        plt.scatter(data2[-self_data:, 0], data2[-self_data:, 1])\n",
    "    plt.title(\"2D plot for pca procesed data\")\n",
    "    plt.show()\n",
    "    \n",
    "#     model_pca3 = PCA(n_components=3)\n",
    "#     model_pca3.fit(data_plot)\n",
    "#     data3 = model_pca3.transform(data_plot)\n",
    "    data3 = PCA_(data_plot, 3)\n",
    "    \n",
    "    fig = plt.figure()\n",
    "    ax = plt.axes(projection='3d')\n",
    "    ax.scatter3D(data3[:, 0], data3[:, 1], data3[:, 2])\n",
    "    \n",
    "    if(self_data != None):\n",
    "        ax.scatter3D(data3[-self_data:, 0], data3[-self_data:, 1], data3[-self_data:, 2], c='red')\n",
    "    plt.title(\"3D plot for pca procesed data\")\n",
    "    plt.show()\n",
    "    \n",
    "PCA_plot(train_x)"
   ]
  },
  {
   "cell_type": "code",
   "execution_count": 17,
   "id": "d79ffb06",
   "metadata": {},
   "outputs": [
    {
     "data": {
      "text/plain": [
       "(2982, 1)"
      ]
     },
     "execution_count": 17,
     "metadata": {},
     "output_type": "execute_result"
    }
   ],
   "source": [
    "data_pro_200[1].reshape(-1, 1).shape"
   ]
  },
  {
   "cell_type": "code",
   "execution_count": null,
   "id": "e463bd5a",
   "metadata": {},
   "outputs": [],
   "source": []
  },
  {
   "cell_type": "code",
   "execution_count": 18,
   "id": "2b5f9d28",
   "metadata": {},
   "outputs": [
    {
     "name": "stdout",
     "output_type": "stream",
     "text": [
      "Dimension of processed data is 80\n",
      "Accuracy of training data is: \n",
      "1.0\n",
      "Accuracy of whole testing data is: \n",
      "0.9859154929577465\n",
      "Accuracy on CMU dataset is:  0.9882352941176471\n",
      "Accuracy on Self_image is:  0.0\n",
      "The classification result is: \n",
      "[[ 0  0  0 ...  7 15  8]]\n",
      "\n",
      "\n",
      "Dimension of processed data is 200\n",
      "Accuracy of training data is: \n",
      "1.0\n",
      "Accuracy of whole testing data is: \n",
      "0.9843505477308294\n",
      "Accuracy on CMU dataset is:  0.9866666666666667\n",
      "Accuracy on Self_image is:  0.0\n",
      "The classification result is: \n",
      "[[ 0  0  0 ... 15  7 22]]\n",
      "\n",
      "\n",
      "Dimension of processed data is 80\n",
      "Accuracy of training data is: \n",
      "1.0\n",
      "Accuracy of whole testing data is: \n",
      "0.9859154929577465\n",
      "Accuracy on CMU dataset is:  0.9882352941176471\n",
      "Accuracy on Self_image is:  0.0\n",
      "The classification result is: \n",
      "[[ 0  0  0 ...  7 15  8]]\n",
      "\n",
      "\n",
      "Dimension of processed data is 200\n",
      "Accuracy of training data is: \n",
      "1.0\n",
      "Accuracy of whole testing data is: \n",
      "0.9843505477308294\n",
      "Accuracy on CMU dataset is:  0.9866666666666667\n",
      "Accuracy on Self_image is:  0.0\n",
      "The classification result is: \n",
      "[[ 0  0  0 ... 15  7 22]]\n",
      "\n",
      "\n",
      "Dimension of processed data is 80\n",
      "Accuracy of training data is: \n",
      "1.0\n",
      "Accuracy of whole testing data is: \n",
      "0.9859154929577465\n",
      "Accuracy on CMU dataset is:  0.9882352941176471\n",
      "Accuracy on Self_image is:  0.0\n",
      "The classification result is: \n",
      "[[ 0  0  0 ...  7 15  8]]\n",
      "\n",
      "\n",
      "Dimension of processed data is 200\n",
      "Accuracy of training data is: \n",
      "1.0\n",
      "Accuracy of whole testing data is: \n",
      "0.9843505477308294\n",
      "Accuracy on CMU dataset is:  0.9866666666666667\n",
      "Accuracy on Self_image is:  0.0\n",
      "The classification result is: \n",
      "[[ 0  0  0 ... 15  7 22]]\n",
      "\n",
      "\n"
     ]
    }
   ],
   "source": [
    "### SVM\n",
    "def SVM_PCA(data_pro, c):\n",
    "    model_svm = svm.SVC(C=c, kernel='linear', decision_function_shape='ovo')\n",
    "    model_svm.fit(data_pro[0], data_pro[1].ravel())\n",
    "\n",
    "    print(\"Accuracy of training data is: \")\n",
    "    print(model_svm.score(data_pro[0], data_pro[1].ravel()))\n",
    "    \n",
    "    print(\"Accuracy of whole testing data is: \")\n",
    "    print(model_svm.score(data_pro[2], data_pro[3].ravel()))\n",
    "    \n",
    "    res = model_svm.predict(data_pro[2]).reshape(1, -1)\n",
    "    label = data_pro[3].reshape(1, -1)\n",
    "    lens = res.shape[1]\n",
    "    \n",
    "    acc1 = np.sum(res[0, :-3]==label[0, :-3]) / (lens-3)\n",
    "\n",
    "    acc2 = np.sum(res[0, -3:]==label[0, -3:]) / 3\n",
    "\n",
    "    \n",
    "    print(\"Accuracy on CMU dataset is: \", acc1)\n",
    "    print(\"Accuracy on Self_image is: \", acc2)\n",
    "    \n",
    "    print(\"The classification result is: \")\n",
    "    print(res)\n",
    "    print(\"\\n\")\n",
    "\n",
    "print(\"Dimension of processed data is 80\")\n",
    "SVM_PCA(data_pro_80, 0.01)\n",
    "\n",
    "print(\"Dimension of processed data is 200\")\n",
    "SVM_PCA(data_pro_200, 0.1)\n",
    "\n",
    "print(\"Dimension of processed data is 80\")\n",
    "SVM_PCA(data_pro_80, 0.1)\n",
    "\n",
    "print(\"Dimension of processed data is 200\")\n",
    "SVM_PCA(data_pro_200, 0.1)\n",
    "\n",
    "print(\"Dimension of processed data is 80\")\n",
    "SVM_PCA(data_pro_80, 1)\n",
    "\n",
    "print(\"Dimension of processed data is 200\")\n",
    "SVM_PCA(data_pro_200, 1)"
   ]
  },
  {
   "cell_type": "code",
   "execution_count": null,
   "id": "c9f559a7",
   "metadata": {},
   "outputs": [],
   "source": []
  },
  {
   "cell_type": "code",
   "execution_count": 19,
   "id": "60df486b",
   "metadata": {},
   "outputs": [
    {
     "name": "stdout",
     "output_type": "stream",
     "text": [
      "0.9405320813771518\n",
      "[ 0  0  5 ...  6 25  2]\n"
     ]
    }
   ],
   "source": [
    "### KNN_PCA\n",
    "model_knn = KNeighborsClassifier(1)\n",
    "model_knn.fit(data_pro_40[0], data_pro_40[1].ravel())\n",
    "\n",
    "print(model_knn.score(data_pro_40[2], data_pro_40[3].ravel()))\n",
    "print(model_knn.predict(data_pro_40[2]))"
   ]
  },
  {
   "cell_type": "code",
   "execution_count": 47,
   "id": "7c95c95a",
   "metadata": {},
   "outputs": [],
   "source": [
    "### NN\n",
    "def Nearest_Neighbor(data_pro):\n",
    "    train_x = data_pro[0]\n",
    "    train_y = data_pro[1]\n",
    "    test_x = data_pro[2]\n",
    "    test_y = data_pro[3]\n",
    "    lens_train = train_x.shape[0]\n",
    "    lens_test = test_x.shape[0]\n",
    "    \n",
    "    # calculating distance\n",
    "    res = []\n",
    "    for i in range(lens_test):\n",
    "        distances = []\n",
    "        for j in range(lens_train):\n",
    "            distance = np.linalg.norm(test_x[i] - train_x[j])\n",
    "            distances.append([distance, train_y[j]])\n",
    "        nearest_group = [i[1] for i in sorted(distances)]\n",
    "        res.append(nearest_group[0])\n",
    "    \n",
    "    return np.array(res)\n",
    "       \n",
    "\n",
    "def NN_PCA(data_pro):\n",
    "    res = Nearest_Neighbor(data_pro).reshape(1, -1)\n",
    "    label = data_pro[3].reshape(1, -1)\n",
    "    lens = res.shape[1]\n",
    "    \n",
    "    acc1 = np.sum(res[0, :-3]==label[0, :-3]) / (lens-3)\n",
    "\n",
    "    acc2 = np.sum(res[0, -3:]==label[0, -3:]) / 3\n",
    "    \n",
    "    print(\"Accuracy on CMU dataset is: \", acc1)\n",
    "    print(\"Accuracy on Self_image is: \", acc2)\n",
    "    \n",
    "    print(\"The classification result is: \")\n",
    "    print(res)\n",
    "    print(\"\\n\")\n",
    "\n"
   ]
  },
  {
   "cell_type": "code",
   "execution_count": 48,
   "id": "60fc2011",
   "metadata": {},
   "outputs": [
    {
     "name": "stdout",
     "output_type": "stream",
     "text": [
      "PCA_NN classification\n",
      "Dimension of processed data is 40\n",
      "Accuracy on CMU dataset is:  0.9168627450980392\n",
      "Accuracy on Self_image is:  0.3333333333333333\n",
      "The classification result is: \n",
      "[[ 0  0  0 ...  5  1 25]]\n",
      "\n",
      "\n",
      "Dimension of processed data is 80\n",
      "Accuracy on CMU dataset is:  0.9411764705882353\n",
      "Accuracy on Self_image is:  0.3333333333333333\n",
      "The classification result is: \n",
      "[[ 0  0  0 ...  8  7 25]]\n",
      "\n",
      "\n",
      "Dimension of processed data is 200\n",
      "Accuracy on CMU dataset is:  0.9498039215686275\n",
      "Accuracy on Self_image is:  0.3333333333333333\n",
      "The classification result is: \n",
      "[[ 2  0  0 ... 25  5  2]]\n",
      "\n",
      "\n"
     ]
    }
   ],
   "source": [
    "print(\"PCA_NN classification\")\n",
    "print(\"Dimension of processed data is 40\")\n",
    "NN_PCA(data_pro_40)\n",
    "\n",
    "print(\"Dimension of processed data is 80\")\n",
    "NN_PCA(data_pro_80)\n",
    "\n",
    "print(\"Dimension of processed data is 200\")\n",
    "NN_PCA(data_pro_200)\n"
   ]
  }
 ],
 "metadata": {
  "kernelspec": {
   "display_name": "Python 3 (ipykernel)",
   "language": "python",
   "name": "python3"
  },
  "language_info": {
   "codemirror_mode": {
    "name": "ipython",
    "version": 3
   },
   "file_extension": ".py",
   "mimetype": "text/x-python",
   "name": "python",
   "nbconvert_exporter": "python",
   "pygments_lexer": "ipython3",
   "version": "3.9.12"
  }
 },
 "nbformat": 4,
 "nbformat_minor": 5
}
