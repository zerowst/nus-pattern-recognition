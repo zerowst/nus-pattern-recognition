{
 "cells": [
  {
   "cell_type": "code",
   "execution_count": 1,
   "id": "80a54bdf",
   "metadata": {},
   "outputs": [],
   "source": [
    "import sys\n",
    "import os\n",
    "import random\n",
    "import numpy as np\n",
    "import matplotlib.pyplot as plt\n",
    "from mpl_toolkits.mplot3d import Axes3D\n",
    "import scipy\n",
    "import libsvm\n",
    "from libsvm.svmutil import *\n",
    "\n",
    "from PIL import Image"
   ]
  },
  {
   "cell_type": "code",
   "execution_count": 2,
   "id": "b326db1c",
   "metadata": {},
   "outputs": [],
   "source": [
    "### Data processing\n",
    "\n",
    "def read_image(dirpath):\n",
    "    image_data = []\n",
    "    \n",
    "    for file in os.listdir(dirpath):\n",
    "        if os.path.isfile(os.path.join(dirpath, file)):\n",
    "            c = os.path.basename(file)\n",
    "            filename = dirpath + '/' + c\n",
    "            image = Image.open(filename).resize((32, 32)).convert('L')\n",
    "            image_arr = np.array(image).reshape(1, 1024)\n",
    "            image_data.append(image_arr)\n",
    "    \n",
    "    return image_data\n",
    "\n",
    "def process_image(folderpath):\n",
    "    data_all = []\n",
    "    for i in range(1, 26):\n",
    "        ### '/home/x/PR_CA/PIE/'\n",
    "        dirpath = folderpath + str(i)  \n",
    "        image_list = read_image(dirpath)\n",
    "        data_image = np.concatenate(image_list, axis=0)\n",
    "        data_all.append(data_image)\n",
    "    return data_all\n",
    "    \n",
    "def train_test_split(data, label):\n",
    "    proportion = 0.7\n",
    "    lens = data.shape[0]\n",
    "    print(lens)\n",
    "    idx = random.sample(range(0, lens), int(proportion*lens))\n",
    "    idx = sorted(idx)\n",
    "    \n",
    "    train_x, train_y, test_x, test_y = [], [], [], []\n",
    "    for i in range(lens):\n",
    "        if i in idx:\n",
    "            train_x.append(data[i].reshape(1, -1))\n",
    "            train_y.append(label[i].reshape(1, -1))\n",
    "        else:\n",
    "            test_x.append(data[i].reshape(1, -1))\n",
    "            test_y.append(label[i].reshape(1, -1))\n",
    "    \n",
    "#     train_x = [data[i].reshape(1, -1) for i in idx]\n",
    "#     train_y = [label[i].reshape(1, -1) for i in idx]\n",
    "#     test_x = [data[i].reshape(1, -1) for i in range(lens) if i not in idx]\n",
    "#     test_y = [label[i].reshape(1, -1) for i in range(lens) if i not in idx]\n",
    "    \n",
    "    trainx = np.concatenate(train_x)\n",
    "    trainy = np.concatenate(train_y)\n",
    "    testx = np.concatenate(test_x)\n",
    "    testy = np.concatenate(test_y)\n",
    "    return trainx, trainy, testx, testy\n",
    "\n"
   ]
  },
  {
   "cell_type": "code",
   "execution_count": 3,
   "id": "01ab3773",
   "metadata": {},
   "outputs": [],
   "source": [
    "### LDA\n",
    "def LDA_(data_pro, n_component):\n",
    "    data_x = data_pro[0] - data_pro[0].mean(0)\n",
    "    data_y = data_pro[1]\n",
    "    N_sample, Fea = data_x.shape\n",
    "    \n",
    "    # Sw\n",
    "    classes = np.unique(data_y)\n",
    "    Sw = np.zeros([Fea, Fea])\n",
    "    for i in classes:\n",
    "        data_i = data_x[data_y == i]\n",
    "        data_i = data_i - data_i.mean(0)\n",
    "        data_i_var = np.dot(np.mat(data_i).T, np.mat(data_i))\n",
    "        Sw += data_i_var\n",
    "        \n",
    "    #Sb\n",
    "    u = data_x.mean(0)\n",
    "    Sb = np.zeros([Fea, Fea])\n",
    "    for i in classes:\n",
    "        N_i = data_x[data_y==i].shape[0]\n",
    "        u_i = data_x[data_y==i].mean(0)\n",
    "        data_i = u_i - u\n",
    "\n",
    "        data_var = N_i * np.dot(np.mat(data_i).T, np.mat(data_i))\n",
    "        Sb += data_var\n",
    "        \n",
    "    S = np.dot(np.linalg.inv(Sw), Sb)\n",
    "    \n",
    "    eig_val, eig_vec = np.linalg.eig(S)\n",
    "\n",
    "    eig_val_idx = np.argsort(-eig_val)\n",
    "    \n",
    "    feature = eig_vec[:, eig_val_idx[0:n_component]]\n",
    "    data = np.dot(data_x, feature)\n",
    "    \n",
    "    return np.real(data)"
   ]
  },
  {
   "cell_type": "code",
   "execution_count": 4,
   "id": "6d70ddb3",
   "metadata": {},
   "outputs": [],
   "source": [
    "def LDA_Split(image_all, label_image, self_image, label_self, n_component):\n",
    "    image_all = LDA_([image_all, label_image], n_component)\n",
    "    self_image = LDA_([self_image, label_self], n_component)\n",
    "    trainx, trainy, testx, testy = train_test_split(image_all, label_image)\n",
    "    trainx_self, trainy_self, testx_self, testy_self = train_test_split(self_image, label_self)\n",
    "\n",
    "    # Training data and testing data\n",
    "    train_x = np.concatenate([trainx, trainx_self])\n",
    "    train_y = np.concatenate([trainy, trainy_self])\n",
    "    test_x = np.concatenate([testx, testx_self])\n",
    "    test_y = np.concatenate([testy, testy_self])\n",
    "    data_pro = [train_x, train_y, test_x, test_y]\n",
    "    return data_pro"
   ]
  },
  {
   "cell_type": "code",
   "execution_count": 5,
   "id": "5a5e6d4f",
   "metadata": {},
   "outputs": [
    {
     "name": "stdout",
     "output_type": "stream",
     "text": [
      "4250\n",
      "10\n",
      "4250\n",
      "10\n",
      "4250\n",
      "10\n",
      "4250\n",
      "10\n"
     ]
    }
   ],
   "source": [
    "### Data\n",
    "\n",
    "folderpath = 'PIE/'\n",
    "data_all = process_image(folderpath)\n",
    "image_all = np.concatenate(data_all)\n",
    "label_image = np.arange(0, 25, 1).repeat(170)\n",
    "\n",
    "self_folder = 'PIE/0'\n",
    "self_image = np.concatenate(read_image(self_folder))\n",
    "label_self = np.array([25]).repeat(10)\n",
    "\n",
    "trainx, trainy, testx, testy = train_test_split(image_all, label_image)\n",
    "trainx_self, trainy_self, testx_self, testy_self = train_test_split(self_image, label_self)\n",
    "\n",
    "# Training data and testing data\n",
    "train_x = np.concatenate([trainx, trainx_self])\n",
    "train_y = np.concatenate([trainy, trainy_self])\n",
    "test_x = np.concatenate([testx, testx_self])\n",
    "test_y = np.concatenate([testy, testy_self])\n",
    "\n",
    "data_lda_2 = LDA_Split(image_all, label_image, self_image, label_self, 2)\n",
    "data_lda_3 = LDA_Split(image_all, label_image, self_image, label_self, 3)\n",
    "data_lda_9 = LDA_Split(image_all, label_image, self_image, label_self, 9)"
   ]
  },
  {
   "cell_type": "code",
   "execution_count": 6,
   "id": "4456fe3e",
   "metadata": {},
   "outputs": [],
   "source": [
    "### NN\n",
    "\n",
    "def Nearest_Neighbor(data_pro):\n",
    "    train_x = data_pro[0]\n",
    "    train_y = data_pro[1]\n",
    "    test_x = data_pro[2]\n",
    "    test_y = data_pro[3]\n",
    "    lens_train = train_x.shape[0]\n",
    "    lens_test = test_x.shape[0]\n",
    "    \n",
    "    # calculating distance\n",
    "    res = []\n",
    "    for i in range(lens_test):\n",
    "        distances = []\n",
    "        for j in range(lens_train):\n",
    "            distance = np.linalg.norm(test_x[i] - train_x[j])\n",
    "            distances.append([distance, train_y[j]])\n",
    "        nearest_group = [i[1] for i in sorted(distances)]\n",
    "        res.append(nearest_group[0])\n",
    "    \n",
    "    return np.array(res)\n",
    "       "
   ]
  },
  {
   "cell_type": "code",
   "execution_count": 7,
   "id": "376d0c3f",
   "metadata": {},
   "outputs": [],
   "source": [
    "def NN_LDA(data_pro):\n",
    "    res = Nearest_Neighbor(data_pro).reshape(1, -1)\n",
    "    label = data_pro[3].reshape(1, -1)\n",
    "    lens = res.shape[1]\n",
    "    \n",
    "    acc1 = np.sum(res[0, :-3]==label[0, :-3]) / (lens-3)\n",
    "\n",
    "    acc2 = np.sum(res[0, -3:]==label[0, -3:]) / 3\n",
    "    \n",
    "    print(\"Accuracy on CMU dataset is: \", acc1)\n",
    "    print(\"Accuracy on Self_image is: \", acc2)\n",
    "    \n",
    "    print(\"The classification result is: \")\n",
    "    print(res)\n",
    "    print(\"\\n\")\n"
   ]
  },
  {
   "cell_type": "code",
   "execution_count": 8,
   "id": "005c055d",
   "metadata": {},
   "outputs": [
    {
     "name": "stdout",
     "output_type": "stream",
     "text": [
      "LDA_NN classification\n",
      "Dimension of processed data is 2\n",
      "Accuracy on CMU dataset is:  0.47294117647058825\n",
      "Accuracy on Self_image is:  0.3333333333333333\n",
      "The classification result is: \n",
      "[[12  0 17 ... 25  1  3]]\n",
      "\n",
      "\n",
      "Dimension of processed data is 3\n",
      "Accuracy on CMU dataset is:  0.796078431372549\n",
      "Accuracy on Self_image is:  0.6666666666666666\n",
      "The classification result is: \n",
      "[[ 0 12  0 ... 25 25  9]]\n",
      "\n",
      "\n",
      "Dimension of processed data is 9\n",
      "Accuracy on CMU dataset is:  0.9945098039215686\n",
      "Accuracy on Self_image is:  0.3333333333333333\n",
      "The classification result is: \n",
      "[[ 0  0  0 ...  3 16 25]]\n",
      "\n",
      "\n"
     ]
    }
   ],
   "source": [
    "print(\"LDA_NN classification\")\n",
    "print(\"Dimension of processed data is 2\")\n",
    "NN_LDA(data_lda_2)\n",
    "\n",
    "print(\"Dimension of processed data is 3\")\n",
    "NN_LDA(data_lda_3)\n",
    "\n",
    "print(\"Dimension of processed data is 9\")\n",
    "NN_LDA(data_lda_9)\n"
   ]
  },
  {
   "cell_type": "code",
   "execution_count": 38,
   "id": "1b16f6a7",
   "metadata": {},
   "outputs": [
    {
     "name": "stdout",
     "output_type": "stream",
     "text": [
      "The number of selfie image is:  2\n"
     ]
    },
    {
     "data": {
      "image/png": "[encoded data removed]",
      "text/plain": [
       "<Figure size 432x288 with 1 Axes>"
      ]
     },
     "metadata": {
      "needs_background": "light"
     },
     "output_type": "display_data"
    },
    {
     "data": {
      "image/png": "[encoded data removed]",
      "text/plain": [
       "<Figure size 432x288 with 1 Axes>"
      ]
     },
     "metadata": {
      "needs_background": "light"
     },
     "output_type": "display_data"
    }
   ],
   "source": [
    "### LDA plot\n",
    "def LDA_plot(data, label): ##origin_image_data\n",
    "    lens = data.shape[0]\n",
    "    num_sample = 500\n",
    "    idx = random.sample(range(0, lens), num_sample)\n",
    "    \n",
    "    data_plot = [data[i].reshape(1, -1) for i in idx]\n",
    "    data_plot = np.concatenate(data_plot)\n",
    "    label_plot = [label[i] for i in idx]\n",
    "    label_plot = np.array(label_plot)\n",
    "    \n",
    "    self_data = sum(i>=2975 for i in idx)\n",
    "    print(\"The number of selfie image is: \",self_data)\n",
    "    \n",
    "    data2 = LDA_([data_plot, label_plot], 2)\n",
    "    \n",
    "    dx = data2[:, 0]\n",
    "    dy = data2[:, 1]\n",
    "    plt.scatter(dx, dy)\n",
    "    \n",
    "    if(self_data != 0):\n",
    "        plt.scatter(data2[-self_data:, 0], data2[-self_data:, 1])\n",
    "    plt.title(\"2D plot for pca procesed data\")\n",
    "    plt.show()\n",
    "    \n",
    "#     model_pca3 = PCA(n_components=3)\n",
    "#     model_pca3.fit(data_plot)\n",
    "#     data3 = model_pca3.transform(data_plot)\n",
    "    data3 = LDA_([data_plot, label_plot], 3)\n",
    "    \n",
    "    fig = plt.figure()\n",
    "    ax = plt.axes(projection='3d')\n",
    "    ax.scatter3D(data3[:, 0], data3[:, 1], data3[:, 2])\n",
    "    \n",
    "    if(self_data != None):\n",
    "        ax.scatter3D(data3[-self_data:, 0], data3[-self_data:, 1], data3[-self_data:, 2], c='red')\n",
    "    plt.title(\"3D plot for pca procesed data\")\n",
    "    plt.show()\n",
    "    \n",
    "# LDA_plot(data_lda_2[0], train_y.reshape(1, -1)[0])\n",
    "LDA_plot(data_lda_3[0], data_lda_3[1].reshape(1, -1)[0])"
   ]
  },
  {
   "cell_type": "code",
   "execution_count": 40,
   "id": "081e8a7d",
   "metadata": {},
   "outputs": [
    {
     "name": "stdout",
     "output_type": "stream",
     "text": [
      "[[  4.20011817  -5.75470247]\n",
      " [  7.17484899  -4.60429536]\n",
      " [  5.43490528  -5.11759323]\n",
      " ...\n",
      " [-15.1         13.3       ]\n",
      " [-15.1        -26.7       ]\n",
      " [-22.1         -7.7       ]]\n",
      "[[  5.8405534   -3.68067123   2.88123891]\n",
      " [  4.20011817  -5.75470247   2.56770936]\n",
      " [  7.17484899  -4.60429536   3.54389837]\n",
      " ...\n",
      " [-15.1         13.3          0.7       ]\n",
      " [-22.1         -7.7         -3.3       ]\n",
      " [  6.9         14.3         11.7       ]]\n",
      "[[  5.8405534   -3.68067123   2.88123891 ...   1.99870952  -3.26603872\n",
      "   -2.06192677]\n",
      " [  4.20011817  -5.75470247   2.56770936 ...   3.94129343  -8.14421095\n",
      "   -2.06049809]\n",
      " [  7.17484899  -4.60429536   3.54389837 ...   3.90264158  -8.4832897\n",
      "   -3.80273783]\n",
      " ...\n",
      " [-15.1         13.3          0.7        ...  -0.1         -1.1\n",
      "   -1.6       ]\n",
      " [-15.1        -26.7         -4.3        ...   2.9          9.9\n",
      "   15.4       ]\n",
      " [  6.9         14.3         11.7        ... -28.1        -36.1\n",
      "    0.4       ]]\n"
     ]
    }
   ],
   "source": [
    "print(data_lda_2[0])\n",
    "print(data_lda_3[0])\n",
    "print(data_lda_9[0])"
   ]
  },
  {
   "cell_type": "code",
   "execution_count": null,
   "id": "fc5ec07d",
   "metadata": {},
   "outputs": [],
   "source": []
  }
 ],
 "metadata": {
  "kernelspec": {
   "display_name": "Python 3 (ipykernel)",
   "language": "python",
   "name": "python3"
  },
  "language_info": {
   "codemirror_mode": {
    "name": "ipython",
    "version": 3
   },
   "file_extension": ".py",
   "mimetype": "text/x-python",
   "name": "python",
   "nbconvert_exporter": "python",
   "pygments_lexer": "ipython3",
   "version": "3.9.12"
  }
 },
 "nbformat": 4,
 "nbformat_minor": 5
}
